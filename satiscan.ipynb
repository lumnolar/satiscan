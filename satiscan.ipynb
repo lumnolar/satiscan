{
  "nbformat": 4,
  "nbformat_minor": 0,
  "metadata": {
    "colab": {
      "provenance": [],
      "authorship_tag": "ABX9TyOjDCzbfYL9RP7Apxv0DRM+"
    },
    "kernelspec": {
      "name": "python3",
      "display_name": "Python 3"
    },
    "language_info": {
      "name": "python"
    }
  },
  "cells": [
    {
      "cell_type": "markdown",
      "source": [
        "Satiscan:\n",
        "A satisfaction analysis applied to the review of a hospital"
      ],
      "metadata": {
        "id": "mJCpivQVV773"
      }
    },
    {
      "cell_type": "code",
      "source": [
        "# Import necessary libraries\n",
        "import numpy as np\n",
        "import pandas as pd\n",
        "import string\n",
        "from nltk.stem import WordNetLemmatizer\n",
        "from nltk.tokenize import word_tokenize\n",
        "import nltk\n",
        "from sklearn.feature_extraction.text import CountVectorizer\n",
        "from sklearn.decomposition import LatentDirichletAllocation"
      ],
      "metadata": {
        "id": "JpfmWsaa7bek"
      },
      "execution_count": 1,
      "outputs": []
    },
    {
      "cell_type": "code",
      "source": [
        "# Download NLTK stopwords and punkt if not already downloaded\n",
        "nltk.download('stopwords')\n",
        "nltk.download('punkt')\n",
        "nltk.download('wordnet')"
      ],
      "metadata": {
        "colab": {
          "base_uri": "https://localhost:8080/"
        },
        "id": "ES7EJhwf7fyN",
        "outputId": "f5b90c93-2c05-4eac-c18f-db338294acd4"
      },
      "execution_count": 2,
      "outputs": [
        {
          "output_type": "stream",
          "name": "stderr",
          "text": [
            "[nltk_data] Downloading package stopwords to /root/nltk_data...\n",
            "[nltk_data]   Package stopwords is already up-to-date!\n",
            "[nltk_data] Downloading package punkt to /root/nltk_data...\n",
            "[nltk_data]   Package punkt is already up-to-date!\n",
            "[nltk_data] Downloading package wordnet to /root/nltk_data...\n",
            "[nltk_data]   Package wordnet is already up-to-date!\n"
          ]
        },
        {
          "output_type": "execute_result",
          "data": {
            "text/plain": [
              "True"
            ]
          },
          "metadata": {},
          "execution_count": 2
        }
      ]
    },
    {
      "cell_type": "markdown",
      "source": [
        "Data Cleaning"
      ],
      "metadata": {
        "id": "ukfWy20t_zi4"
      }
    },
    {
      "cell_type": "code",
      "source": [
        "# Getting the Data\n",
        "table = pd.read_csv('/content/table (1).csv')\n",
        "print(table.columns)"
      ],
      "metadata": {
        "colab": {
          "base_uri": "https://localhost:8080/"
        },
        "id": "saNRXB4t7kEP",
        "outputId": "a38ce05e-d970-4bd6-ba2b-368cf049f3fa"
      },
      "execution_count": 3,
      "outputs": [
        {
          "output_type": "stream",
          "name": "stdout",
          "text": [
            "Index(['Author name', 'Reviews amount', 'Rating', 'Date',\n",
            "       'Author profile image', 'Review content'],\n",
            "      dtype='object')\n"
          ]
        }
      ]
    },
    {
      "cell_type": "code",
      "source": [
        "# Checking the shape of the data\n",
        "table_shape = table.shape\n",
        "print(f\"\\nThe dataset comprises {table_shape[0]} authors and {table_shape[1]} features.\")"
      ],
      "metadata": {
        "colab": {
          "base_uri": "https://localhost:8080/"
        },
        "id": "yG9-ekiy79Pr",
        "outputId": "eb0e1b33-3359-490d-9693-4a79a6fd735d"
      },
      "execution_count": 4,
      "outputs": [
        {
          "output_type": "stream",
          "name": "stdout",
          "text": [
            "\n",
            "The dataset comprises 388 authors and 6 features.\n"
          ]
        }
      ]
    },
    {
      "cell_type": "code",
      "source": [
        "# Getting the Review Content\n",
        "reviews = table[['Review content']].copy()\n",
        "reviews.rename(columns={'Review content': 'review'}, inplace=True)"
      ],
      "metadata": {
        "id": "JSWk_kjR8Lag"
      },
      "execution_count": 5,
      "outputs": []
    },
    {
      "cell_type": "code",
      "source": [
        "# Exploring the length of each review to get a valuable perspective on the data\n",
        "reviews['review_length'] = reviews['review'].apply(lambda x: len(str(x).split()))"
      ],
      "metadata": {
        "id": "wABbMOPq8Ur8"
      },
      "execution_count": 6,
      "outputs": []
    },
    {
      "cell_type": "markdown",
      "source": [
        "Short reviews might hold significance or not"
      ],
      "metadata": {
        "id": "TI13xhAY884a"
      }
    },
    {
      "cell_type": "code",
      "source": [
        "# Identifying and examining short reviews\n",
        "short_reviews = reviews[reviews['review_length'] < 5]\n",
        "num_short_reviews = len(short_reviews)\n"
      ],
      "metadata": {
        "id": "ZXFuAD5k84Bc"
      },
      "execution_count": 7,
      "outputs": []
    },
    {
      "cell_type": "code",
      "source": [
        "# Displaying a sample of these short reviews, if they exist.\n",
        "if num_short_reviews > 0:\n",
        "    print(f\"\\nNumber of reviews with less than 5 words: {num_short_reviews}\")\n",
        "    print(\"\\nSample of short reviews:\")\n",
        "    print(short_reviews['review'])\n"
      ],
      "metadata": {
        "colab": {
          "base_uri": "https://localhost:8080/"
        },
        "id": "sO7ze7yz9Np0",
        "outputId": "27e1a28a-3910-4599-8204-ab43dadaef63"
      },
      "execution_count": 8,
      "outputs": [
        {
          "output_type": "stream",
          "name": "stdout",
          "text": [
            "\n",
            "Number of reviews with less than 5 words: 216\n",
            "\n",
            "Sample of short reviews:\n",
            "67                Good Healthcare service\n",
            "77            Clean and great environment\n",
            "86                              Very Good\n",
            "92     Excellent medical service delivery\n",
            "113       Great hospital and institution.\n",
            "                      ...                \n",
            "383                                   NaN\n",
            "384                                   NaN\n",
            "385                                   NaN\n",
            "386                                   NaN\n",
            "387                                   NaN\n",
            "Name: review, Length: 216, dtype: object\n"
          ]
        }
      ]
    },
    {
      "cell_type": "code",
      "source": [
        "# Identifying empty reviews (NaN) is crucial as well. Let's quantify them.\n",
        "nan_reviews = reviews['review'].isna().sum()\n",
        "print(f\"\\nNumber of empty reviews: {nan_reviews}\")"
      ],
      "metadata": {
        "colab": {
          "base_uri": "https://localhost:8080/"
        },
        "id": "XAxy6Wlr9RNq",
        "outputId": "40e838b4-5293-4493-9715-2b6402b728d7"
      },
      "execution_count": 9,
      "outputs": [
        {
          "output_type": "stream",
          "name": "stdout",
          "text": [
            "\n",
            "Number of empty reviews: 148\n"
          ]
        }
      ]
    },
    {
      "cell_type": "markdown",
      "source": [
        "Checking longer reviews which may be adverts or spam messages"
      ],
      "metadata": {
        "id": "cLF9B4DK9ZZG"
      }
    },
    {
      "cell_type": "code",
      "source": [
        "# Exploring longer reviews by analyzing the 75th percentile of the review length.\n",
        "percentile_75 = reviews['review_length'].quantile(0.75)\n",
        "long_reviews = reviews[reviews['review_length'] > percentile_75]\n",
        "print((long_reviews[['review', 'review_length']]).head())"
      ],
      "metadata": {
        "colab": {
          "base_uri": "https://localhost:8080/"
        },
        "id": "YNUKgbAi9gn4",
        "outputId": "771c55fc-ad45-48cf-f37a-cf6fd58fb6ac"
      },
      "execution_count": 10,
      "outputs": [
        {
          "output_type": "stream",
          "name": "stdout",
          "text": [
            "                                              review  review_length\n",
            "0  Quite an expanse of facilities, tho mostly pri...             29\n",
            "1  Jollof rice and chicken salad we have it for o...             27\n",
            "2  Lagos University Teaching Hospital is viable a...             43\n",
            "3  A very big hospital tipical of teaching hospit...             36\n",
            "4  Lagos University Teaching Hospital has a majes...             33\n"
          ]
        }
      ]
    },
    {
      "cell_type": "markdown",
      "source": [
        "The second column shows an advert"
      ],
      "metadata": {
        "id": "E7JS9E98-cr6"
      }
    },
    {
      "cell_type": "code",
      "source": [
        "# Dropping columns with no reviews\n",
        "reviews.dropna(inplace=True)\n",
        "reviews.drop(columns=['review_length'], inplace=True)\n",
        "\n",
        "# Displaying the shape of the processed reviews\n",
        "processed_reviews_shape = reviews.shape\n",
        "print(f\"\\nLeft with {processed_reviews_shape[0]} reviews\")"
      ],
      "metadata": {
        "colab": {
          "base_uri": "https://localhost:8080/"
        },
        "id": "NilI-NN5-S0x",
        "outputId": "b9cd3eea-dbdc-4131-85f4-b55804435ff4"
      },
      "execution_count": 11,
      "outputs": [
        {
          "output_type": "stream",
          "name": "stdout",
          "text": [
            "\n",
            "Left with 240 reviews\n"
          ]
        }
      ]
    },
    {
      "cell_type": "markdown",
      "source": [
        "Text Preprocessing"
      ],
      "metadata": {
        "id": "yXkPnWC5-00n"
      }
    },
    {
      "cell_type": "code",
      "source": [
        "# Remove punctuation\n",
        "def remove_punctuation(text):\n",
        "    return text.translate(str.maketrans('', '', string.punctuation))\n",
        "\n",
        "reviews['review'] = reviews['review'].apply(remove_punctuation)\n"
      ],
      "metadata": {
        "id": "yMhNON-L-wLD"
      },
      "execution_count": 12,
      "outputs": []
    },
    {
      "cell_type": "code",
      "source": [
        "# Lemmatize and Tokenize the reviews\n",
        "lemmatizer = WordNetLemmatizer()\n",
        "stop_words = set(nltk.corpus.stopwords.words('english'))\n",
        "\n",
        "def preprocess_text(text):\n",
        "    tokens = word_tokenize(text)\n",
        "    lemmatized_tokens = [lemmatizer.lemmatize(word.lower()) for word in tokens if word.lower() not in stop_words]\n",
        "    return ' '.join(lemmatized_tokens)\n",
        "\n",
        "reviews['processed_reviews'] = reviews['review'].apply(preprocess_text)\n"
      ],
      "metadata": {
        "id": "wdiVesxE-6Z1"
      },
      "execution_count": 13,
      "outputs": []
    },
    {
      "cell_type": "code",
      "source": [
        "# Displaying the DataFrame with processed reviews\n",
        "print(\"\\nProcessed Reviews:\")\n",
        "print(reviews[['review', 'processed_reviews']].head())"
      ],
      "metadata": {
        "colab": {
          "base_uri": "https://localhost:8080/"
        },
        "id": "CVeuFQq-_cpr",
        "outputId": "d8360165-987c-4f3d-a80b-40b6ff8a31a3"
      },
      "execution_count": 14,
      "outputs": [
        {
          "output_type": "stream",
          "name": "stdout",
          "text": [
            "\n",
            "Processed Reviews:\n",
            "                                              review  \\\n",
            "0  Quite an expanse of facilities tho mostly priv...   \n",
            "1  Jollof rice and chicken salad we have it for o...   \n",
            "2  Lagos University Teaching Hospital is viable a...   \n",
            "3  A very big hospital tipical of teaching hospit...   \n",
            "4  Lagos University Teaching Hospital has a majes...   \n",
            "\n",
            "                                   processed_reviews  \n",
            "0  quite expanse facility tho mostly privatised t...  \n",
            "1  jollof rice chicken salad 10000 people best fo...  \n",
            "2  lagos university teaching hospital viable prod...  \n",
            "3  big hospital tipical teaching hospital course ...  \n",
            "4  lagos university teaching hospital majestic en...  \n"
          ]
        }
      ]
    },
    {
      "cell_type": "code",
      "source": [
        "# Displaying an example of pre-processed review\n",
        "print(\"\\nExample of pre-processed review:\")\n",
        "print(reviews['processed_reviews'][50])"
      ],
      "metadata": {
        "colab": {
          "base_uri": "https://localhost:8080/"
        },
        "id": "aa_DaWuv_fll",
        "outputId": "636cf636-78d5-49c5-a4de-84890669ea64"
      },
      "execution_count": 15,
      "outputs": [
        {
          "output_type": "stream",
          "name": "stdout",
          "text": [
            "\n",
            "Example of pre-processed review:\n",
            "flagship teaching hospital lagos nigeria always open 24 hour qualified doctor nurse also medical student ground practicing get degree medical issue lagos university teaching hospital popularly known luth place go\n"
          ]
        }
      ]
    },
    {
      "cell_type": "markdown",
      "source": [
        "Topic Modelling"
      ],
      "metadata": {
        "id": "5AWzWo2__hXq"
      }
    },
    {
      "cell_type": "markdown",
      "source": [
        "Due to the small size of the current data, we will check for just two topics"
      ],
      "metadata": {
        "id": "SG6TGrvaANMo"
      }
    },
    {
      "cell_type": "code",
      "source": [
        "# Using CountVectorizer to convert processed reviews into a document-term matrix\n",
        "cv = CountVectorizer(max_df=0.4, min_df=2, stop_words='english')\n",
        "dtm = cv.fit_transform(reviews['processed_reviews'])"
      ],
      "metadata": {
        "id": "EfbOj-E1_mi3"
      },
      "execution_count": 16,
      "outputs": []
    },
    {
      "cell_type": "code",
      "source": [
        "# The shape of our document-term matrix reveals the complexity of our text data.\n",
        "dtm_shape = dtm.shape\n",
        "print(f\"\\nShape of Document-Term Matrix: {dtm_shape}\")"
      ],
      "metadata": {
        "colab": {
          "base_uri": "https://localhost:8080/"
        },
        "id": "cyAw-51T_8GC",
        "outputId": "5d58d73d-3021-4c86-b1d3-69c2efa6ddbc"
      },
      "execution_count": 17,
      "outputs": [
        {
          "output_type": "stream",
          "name": "stdout",
          "text": [
            "\n",
            "Shape of Document-Term Matrix: (240, 236)\n"
          ]
        }
      ]
    },
    {
      "cell_type": "code",
      "source": [
        "# Applying Latent Dirichlet Allocation (LDA) to identify topics within the reviews\n",
        "LDA = LatentDirichletAllocation(n_components=2, random_state=42)\n",
        "topic_results = LDA.fit_transform(dtm)\n"
      ],
      "metadata": {
        "id": "k5JIAV-K_-hp"
      },
      "execution_count": 18,
      "outputs": []
    },
    {
      "cell_type": "code",
      "source": [
        "# The shape of LDA components provides insights into the identified topics.\n",
        "lda_components_shape = LDA.components_.shape\n",
        "print(f\"Shape of LDA Components: {lda_components_shape}\")"
      ],
      "metadata": {
        "colab": {
          "base_uri": "https://localhost:8080/"
        },
        "id": "rjE_tdbaAGkA",
        "outputId": "9de129e1-99f3-46be-edbe-1d1d335077d8"
      },
      "execution_count": 19,
      "outputs": [
        {
          "output_type": "stream",
          "name": "stdout",
          "text": [
            "Shape of LDA Components: (2, 236)\n"
          ]
        }
      ]
    },
    {
      "cell_type": "code",
      "source": [
        "# Exploring the top 10 words for each topic gives us a glimpse into the essence of these topics.\n",
        "print(\"\\nTop 10 Words for Each Topic:\")\n",
        "for i, arr in enumerate(LDA.components_):\n",
        "    print(f'TOP 10 WORDS FOR TOPIC #{i}')\n",
        "    print([cv.get_feature_names_out()[i] for i in arr.argsort()[-10:]])\n",
        "    print('\\n\\n')\n"
      ],
      "metadata": {
        "colab": {
          "base_uri": "https://localhost:8080/"
        },
        "id": "LqNlgpgFAZkL",
        "outputId": "3f698fc9-9e87-44f7-f32f-17745fac567a"
      },
      "execution_count": 20,
      "outputs": [
        {
          "output_type": "stream",
          "name": "stdout",
          "text": [
            "\n",
            "Top 10 Words for Each Topic:\n",
            "TOP 10 WORDS FOR TOPIC #0\n",
            "['place', 'best', 'good', 'facility', 'nigeria', 'medical', 'doctor', 'teaching', 'lagos', 'hospital']\n",
            "\n",
            "\n",
            "\n",
            "TOP 10 WORDS FOR TOPIC #1\n",
            "['healthcare', 'care', 'staff', 'patient', 'time', 'health', 'nice', 'service', 'need', 'good']\n",
            "\n",
            "\n",
            "\n"
          ]
        }
      ]
    },
    {
      "cell_type": "markdown",
      "source": [
        "The 1st Topic List points towards the Organisational Structure comprising words like 'hospital', 'place', 'facility', 'doctor'.\n",
        "The 2nd Topic List points towards the Service including words like; 'care', 'time','health', 'need',  'service'"
      ],
      "metadata": {
        "id": "mObnD0mABbeY"
      }
    }
  ]
}